{
 "cells": [
  {
   "cell_type": "code",
   "execution_count": null,
   "metadata": {},
   "outputs": [],
   "source": [
    "import json"
   ]
  },
  {
   "cell_type": "code",
   "execution_count": null,
   "metadata": {},
   "outputs": [],
   "source": [
    "class Method:\n",
    "    def __init__(self, ID, name):\n",
    "        self.ID = ID\n",
    "        self.name = name\n",
    "        self.nCalled = 0\n",
    "        self.durations = []\n",
    "        self.calls_to = {}\n",
    "\n",
    "    def add_call(self, to_method):\n",
    "        if to_method.ID in self.calls_to:\n",
    "            self.calls_to[to_method.ID].nCalled += 1\n",
    "        else:\n",
    "            to_method.nCalled = 1\n",
    "            self.calls_to[to_method.ID] = to_method\n",
    "            \n",
    "    def micros(self):\n",
    "        return sum(self.durations)\n",
    "      \n",
    "    def millis(self):\n",
    "        return int(self.micros() / 1000)\n",
    "\n",
    "    def __str__(self):\n",
    "        return f\"{self.name.split(\".\")[-1]} (~{self.millis():,}ms)\""
   ]
  },
  {
   "cell_type": "code",
   "execution_count": null,
   "metadata": {},
   "outputs": [],
   "source": [
    "def build_aggregated_call_graph(file_path, symbols):\n",
    "    \"\"\"\n",
    "    Reads a trace file and builds an aggregated call graph.\n",
    "    \"\"\"\n",
    "\n",
    "    system_method = Method(\"-1\", \"system\")\n",
    "    current_method = system_method\n",
    "    method_stack = []\n",
    "\n",
    "    with open(file_path, 'r') as file:\n",
    "        for line in file:\n",
    "            line = line.strip()\n",
    "            if line.startswith(\">\"):\n",
    "                method_id = line[2:]\n",
    "                # Build a new method object if we do not have one yet for this ID\n",
    "                if method_id not in current_method.calls_to.keys():\n",
    "                    called_method = Method(method_id, symbols.get(method_id, method_id))\n",
    "                else:\n",
    "                    called_method = current_method.calls_to[method_id]\n",
    "                # record the method call ...\n",
    "                current_method.add_call(called_method)\n",
    "                # ... and \"enter\" the method\n",
    "                method_stack.append(current_method)\n",
    "                current_method = called_method\n",
    "            elif line.startswith(\"<\"):\n",
    "                method_id, duration = line[2:].split(';')\n",
    "                # remember how long the method ran ...\n",
    "                current_method.durations.append(int(duration))\n",
    "                # ... and \"exit\" the method\n",
    "                current_method = method_stack.pop()\n",
    "            else:\n",
    "                print(f\"Warning: Skipping invalid line: {line}\")\n",
    "\n",
    "    return system_method\n"
   ]
  },
  {
   "cell_type": "code",
   "execution_count": null,
   "metadata": {},
   "outputs": [],
   "source": [
    "def color_percentage(hex_color, percentage):\n",
    "    \"\"\"\n",
    "    Calculates the hex color code for a given percentage of a base color.\n",
    "\n",
    "    Args:\n",
    "        hex_color (str): The base color in hex format (e.g., \"#FF0000\").\n",
    "        percentage (int): The desired percentage (0-100).\n",
    "\n",
    "    Returns:\n",
    "        str: The hex color code for the calculated percentage.\n",
    "    \"\"\"\n",
    "\n",
    "    if percentage < 0:\n",
    "        #print(f\"perctage clamped from {percentage} to 0\")\n",
    "        percentage = 0\n",
    "    if percentage > 100:\n",
    "        #print(f\"perctage clamped from {percentage} to 100\")\n",
    "        percentage = 100\n",
    "\n",
    "    return f\"{hex_color}{hex(int(255 * percentage / 100))[2:].zfill(2)}\""
   ]
  },
  {
   "cell_type": "code",
   "execution_count": null,
   "metadata": {},
   "outputs": [],
   "source": [
    "def print_dot(method, overall):\n",
    "    # print node\n",
    "    node_color = color_percentage(\"#FF0000\", method.millis() / overall * 100)\n",
    "    print(f\"\\\"{method}\\\"[fillcolor=\\\"{node_color}\\\"]\")\n",
    "    \n",
    "    # print called methods\n",
    "    for called_method in method.calls_to.values():\n",
    "        # recursivly print called method\n",
    "        print_dot(called_method, overall)\n",
    "        #edge_color = color_percentage(\"#FF0000\", called_method.duration() / overall * 100)\n",
    "        # then print edge to called method\n",
    "        print(f\"\\\"{method}\\\" -> \\\"{called_method}\\\"[label=\\\"{called_method.nCalled:,}\\\"]\") #, fillcolor=\\\"{edge_color}\\\", color=\\\"{node_color}\\\"]\")"
   ]
  },
  {
   "cell_type": "code",
   "execution_count": null,
   "metadata": {},
   "outputs": [],
   "source": [
    "def print_dot_graph(method, overall):\n",
    "    print(\"digraph G { node[shape=box,style=filled];\")\n",
    "    print_dot(method, overall)\n",
    "    print(\"}\")"
   ]
  },
  {
   "cell_type": "code",
   "execution_count": null,
   "metadata": {},
   "outputs": [],
   "source": [
    "# Example usage:\n",
    "file_path = r\"C:\\path\\to\\trace.txt\"\n",
    "symbols_path = file_path.replace(\"trace\", \"symbols\")\n",
    "with open(symbols_path, 'r') as f:\n",
    "    symbols = json.load(f)\n",
    "system_node = build_aggregated_call_graph(file_path, symbols)"
   ]
  },
  {
   "cell_type": "code",
   "execution_count": null,
   "metadata": {},
   "outputs": [],
   "source": [
    "main = next(iter(system_node.calls_to.values()))\n",
    "overall = main.millis()\n",
    "# Copy this DOT output \n",
    "print_dot_graph(main, overall)"
   ]
  }
 ],
 "metadata": {
  "kernelspec": {
   "display_name": "Python 3",
   "language": "python",
   "name": "python3"
  },
  "language_info": {
   "codemirror_mode": {
    "name": "ipython",
    "version": 3
   },
   "file_extension": ".py",
   "mimetype": "text/x-python",
   "name": "python",
   "nbconvert_exporter": "python",
   "pygments_lexer": "ipython3",
   "version": "3.12.5"
  }
 },
 "nbformat": 4,
 "nbformat_minor": 2
}
